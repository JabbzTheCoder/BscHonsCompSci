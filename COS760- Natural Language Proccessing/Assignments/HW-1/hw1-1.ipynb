{
 "cells": [
  {
   "cell_type": "markdown",
   "metadata": {},
   "source": [
    "Before you turn this problem in, make sure everything runs as expected. First, **restart the kernel** (in the menubar, select Kernel $\\rightarrow$ Restart) and then **run all cells** (in the menubar, select Cell $\\rightarrow$ Run All).\n",
    "\n",
    "Make sure you fill in any place that says `YOUR CODE HERE` or \"YOUR ANSWER HERE\", as well as your name and collaborators below:"
   ]
  },
  {
   "cell_type": "code",
   "execution_count": null,
   "metadata": {},
   "outputs": [],
   "source": [
    "NAME = \"\"\n",
    "StudentID = \"\""
   ]
  },
  {
   "cell_type": "markdown",
   "metadata": {},
   "source": [
    "---"
   ]
  },
  {
   "cell_type": "markdown",
   "metadata": {
    "deletable": false,
    "editable": false,
    "nbgrader": {
     "cell_type": "markdown",
     "checksum": "2ca3080e6e017ba2614b9a4fbd092d2a",
     "grade": false,
     "grade_id": "jupyter",
     "locked": true,
     "schema_version": 3,
     "solution": false
    }
   },
   "source": [
    "# COS760 2025 - HW1-1 (20 points)\n",
    "\n",
    "For this problem set, we'll be using the Jupyter notebook:\n",
    "\n",
    "![](jupyter.png)\n",
    "\n",
    "\n",
    "Author(s): Prof Vukosi Marivate, Fiskani Banda\n",
    "\n",
    "**Note:** *This notebooks is only for students taking COS 760. It should not be shared outside the class without the permission of the lecturer(s).*\n",
    "\n",
    "\n",
    "\n",
    "**NLP Fundamentals and Text Preprocessing – Homework Assignment**  \n",
    "\n",
    "Welcome to your first **NLP homework**! This assignment will test your understanding of **Natural Language Processing (NLP)** concepts and challenge you with practical text preprocessing tasks.  \n",
    "\n",
    "- Apply text preprocessing techniques using **NLTK and regular expressions** to clean and analyze text. You'll convert text to lowercase, remove punctuation, and filter out stopwords—key steps in real-world NLP tasks.  \n",
    "- 🔍 **Bonus Challenge:** Compare NLTK’s approach with sklearn’s preprocessing—spot the differences and refine your understanding of text cleaning!  \n",
    "\n",
    "By completing this assignment, you’ll **build essential NLP skills** that will help you tackle real-world language challenges. Ready to dive in? 🚀\n",
    "\n",
    "#### Resources\n",
    "\n",
    "You might want to get acquianted with the online free edition of the great book \"Natural Language Processing with Python\" [NLTK Book](https://www.nltk.org/book/)"
   ]
  },
  {
   "cell_type": "markdown",
   "metadata": {},
   "source": [
    "---\n",
    "## Get Comfortable with Google Colab\n",
    "\n",
    "Execute a simple Python cell in Colab.\n",
    "\n",
    "**📌 Instruction:** Execute a simple Python cell in Colab."
   ]
  },
  {
   "cell_type": "code",
   "execution_count": null,
   "metadata": {
    "deletable": false,
    "editable": false,
    "nbgrader": {
     "cell_type": "code",
     "checksum": "dcbca7fb4260bdb3f95aad46056b5668",
     "grade": false,
     "grade_id": "cell-d318f217bbc3b6f2",
     "locked": true,
     "schema_version": 3,
     "solution": false,
     "task": false
    }
   },
   "outputs": [],
   "source": [
    "# Run this cell\n",
    "print(\"Hello, COS760 NLP!\")"
   ]
  },
  {
   "cell_type": "markdown",
   "metadata": {
    "deletable": false,
    "editable": false,
    "nbgrader": {
     "cell_type": "markdown",
     "checksum": "261332e73ae339ae6ad922c3b35bd79b",
     "grade": false,
     "grade_id": "cell-08af54f720b9f684",
     "locked": true,
     "schema_version": 3,
     "solution": false,
     "task": false
    }
   },
   "source": [
    "**📌 Instruction:** Run shell commands in Colab."
   ]
  },
  {
   "cell_type": "code",
   "execution_count": null,
   "metadata": {
    "deletable": false,
    "editable": false,
    "nbgrader": {
     "cell_type": "code",
     "checksum": "c159acb4840564eba91e8269914ebff1",
     "grade": false,
     "grade_id": "cell-f7fe14248937d9cf",
     "locked": true,
     "schema_version": 3,
     "solution": false,
     "task": false
    }
   },
   "outputs": [],
   "source": [
    "!ls  # List files\n",
    "!pip list  # Show installed Python packages\n",
    "!cat /proc/cpuinfo | grep \"model name\"  # Check Colab CPU"
   ]
  },
  {
   "cell_type": "markdown",
   "metadata": {
    "deletable": false,
    "editable": false,
    "nbgrader": {
     "cell_type": "markdown",
     "checksum": "6a87b5c92d957314efa42ed2296966bb",
     "grade": false,
     "grade_id": "cell-f682d5611a96bb67",
     "locked": true,
     "schema_version": 3,
     "solution": false,
     "task": false
    }
   },
   "source": [
    "---\n",
    "## Main Assignment\n",
    "\n",
    "Using Python, split the following text into words and sentences manually and using nltk.tokenize. Compare the results."
   ]
  },
  {
   "cell_type": "code",
   "execution_count": null,
   "metadata": {},
   "outputs": [],
   "source": [
    "import nltk\n",
    "from sklearn.feature_extraction.text import CountVectorizer\n",
    "nltk.download('punkt')\n",
    "\n",
    "text = \"Prof. Marivate and Dr. Modupe teach NLP at UP. The University of Pretoria (UP) is in South Africa. NLP is challenging! However, many researchers and companies are working to solve its problems.\"\n"
   ]
  },
  {
   "cell_type": "markdown",
   "metadata": {},
   "source": [
    "1. Tokenize the given text using the function**[nltk.word_tokenize](https://www.nltk.org/api/nltk.tokenize.html)** and save the tokenized text in variable`nltk_tokens`"
   ]
  },
  {
   "cell_type": "code",
   "execution_count": null,
   "metadata": {
    "deletable": false,
    "nbgrader": {
     "cell_type": "code",
     "checksum": "acd7172ac94bef4317e9e9d82e8b9f4c",
     "grade": false,
     "grade_id": "cell-f16aa844a5d4b143",
     "locked": false,
     "schema_version": 3,
     "solution": true,
     "task": false
    }
   },
   "outputs": [],
   "source": [
    "# YOUR CODE HERE\n",
    "raise NotImplementedError()\n",
    "\n",
    "print(\"NLTK Tokens:\", nltk_tokens)"
   ]
  },
  {
   "cell_type": "code",
   "execution_count": null,
   "metadata": {
    "deletable": false,
    "editable": false,
    "nbgrader": {
     "cell_type": "code",
     "checksum": "9f472fc977491baadddfa14d445e74b8",
     "grade": true,
     "grade_id": "cell-b57a35a80a11a4ed",
     "locked": true,
     "points": 1,
     "schema_version": 3,
     "solution": false,
     "task": false
    }
   },
   "outputs": [],
   "source": [
    "assert isinstance(nltk_tokens, list), \"NLTK tokenization failed.\" # 1 point"
   ]
  },
  {
   "cell_type": "code",
   "execution_count": null,
   "metadata": {
    "deletable": false,
    "editable": false,
    "nbgrader": {
     "cell_type": "code",
     "checksum": "2333e42340bd013bde6a1e97a95dc086",
     "grade": true,
     "grade_id": "cell-cb078cc15b92cda7",
     "locked": true,
     "points": 2,
     "schema_version": 3,
     "solution": false,
     "task": false
    }
   },
   "outputs": [],
   "source": [
    "assert len(nltk_tokens) == 39, \"NLTK token list is empty.\" # 2 point"
   ]
  },
  {
   "cell_type": "markdown",
   "metadata": {},
   "source": [
    "2. Tokenize the given text using **[CountVectorizer](https://scikit-learn.org/stable/modules/generated/sklearn.feature_extraction.text.CountVectorizer.html)** and **[CountVectorizer.get_feature_names_out()](https://scikit-learn.org/stable/modules/generated/sklearn.feature_extraction.text.CountVectorizer.html#sklearn.feature_extraction.text.CountVectorizer.get_feature_names_out)** in variable`sklearn_tokens`"
   ]
  },
  {
   "cell_type": "code",
   "execution_count": null,
   "metadata": {
    "deletable": false,
    "nbgrader": {
     "cell_type": "code",
     "checksum": "2ae7defa170d3349aa403bb5c74d65e5",
     "grade": false,
     "grade_id": "cell-114b1969a640cd58",
     "locked": false,
     "schema_version": 3,
     "solution": true,
     "task": false
    }
   },
   "outputs": [],
   "source": [
    "# YOUR CODE HERE\n",
    "raise NotImplementedError()\n",
    "\n",
    "print(\"Scikit-learn Tokens:\", sklearn_tokens)"
   ]
  },
  {
   "cell_type": "code",
   "execution_count": null,
   "metadata": {
    "deletable": false,
    "editable": false,
    "nbgrader": {
     "cell_type": "code",
     "checksum": "d3c5d2a68970d94f992e96ee2ead900e",
     "grade": true,
     "grade_id": "cell-91ef45333f6f10b7",
     "locked": true,
     "points": 1,
     "schema_version": 3,
     "solution": false,
     "task": false
    }
   },
   "outputs": [],
   "source": [
    "assert isinstance(sklearn_tokens, list), \"Scikit-learn tokenization failed.\" # 1 point"
   ]
  },
  {
   "cell_type": "code",
   "execution_count": null,
   "metadata": {
    "deletable": false,
    "editable": false,
    "nbgrader": {
     "cell_type": "code",
     "checksum": "7170b59b81b3b1e593e3fcddc99b609e",
     "grade": true,
     "grade_id": "cell-d60ffbe26d0924e8",
     "locked": true,
     "points": 4,
     "schema_version": 3,
     "solution": false,
     "task": false
    }
   },
   "outputs": [],
   "source": [
    "assert len(sklearn_tokens) == 28, \"Scikit-learn token list is empty.\" # 4 points"
   ]
  },
  {
   "cell_type": "markdown",
   "metadata": {
    "deletable": false,
    "editable": false,
    "nbgrader": {
     "cell_type": "markdown",
     "checksum": "598ba4fecf73290cb549ffa3ef96e3db",
     "grade": false,
     "grade_id": "cell-301c7ba231db2633",
     "locked": true,
     "schema_version": 3,
     "solution": false,
     "task": false
    }
   },
   "source": [
    "3. **Question (Markdown response)** [3 points]:  \n",
    "* Compare NLTK vs. Scikit-learn tokenization"
   ]
  },
  {
   "cell_type": "markdown",
   "metadata": {
    "deletable": false,
    "nbgrader": {
     "cell_type": "markdown",
     "checksum": "cbc244720490476d273f581684a9cc5c",
     "grade": true,
     "grade_id": "cell-f82467dc0b20273b",
     "locked": false,
     "points": 3,
     "schema_version": 3,
     "solution": true,
     "task": false
    }
   },
   "source": [
    "### Answer 3 \n",
    "\n",
    "YOUR ANSWER HERE"
   ]
  },
  {
   "cell_type": "markdown",
   "metadata": {},
   "source": [
    "4. Convert text to **lowercase**, **remove punctuation** (use regular expression with `re`), and remove **stopwords** using `NLTK`"
   ]
  },
  {
   "cell_type": "code",
   "execution_count": null,
   "metadata": {
    "deletable": false,
    "nbgrader": {
     "cell_type": "code",
     "checksum": "2fde0dfa6f34e71f92bf28ec68cfccc5",
     "grade": false,
     "grade_id": "cell-6527db2cbde486ea",
     "locked": false,
     "schema_version": 3,
     "solution": true,
     "task": false
    }
   },
   "outputs": [],
   "source": [
    "import re\n",
    "from nltk.corpus import stopwords\n",
    "\n",
    "nltk.download(\"stopwords\")\n",
    "stop_words = set(stopwords.words(\"english\"))\n",
    "\n",
    "\n",
    "# YOUR CODE HERE\n",
    "raise NotImplementedError()\n",
    "\n",
    "print(\"NLTK Cleaned:\", nltk_cleaned)"
   ]
  },
  {
   "cell_type": "code",
   "execution_count": null,
   "metadata": {
    "deletable": false,
    "editable": false,
    "nbgrader": {
     "cell_type": "code",
     "checksum": "dcf155fc688633c5ca8c9047fe127f81",
     "grade": true,
     "grade_id": "cell-feb0c3923a0ab884",
     "locked": true,
     "points": 1,
     "schema_version": 3,
     "solution": false,
     "task": false
    }
   },
   "outputs": [],
   "source": [
    "assert isinstance(nltk_cleaned, list), \"NLTK tokenization failed.\" # 1 point"
   ]
  },
  {
   "cell_type": "code",
   "execution_count": null,
   "metadata": {
    "deletable": false,
    "editable": false,
    "nbgrader": {
     "cell_type": "code",
     "checksum": "d9f9968702e3e08af38ac57e586a2092",
     "grade": true,
     "grade_id": "cell-1bb270dc5bd12cd2",
     "locked": true,
     "points": 4,
     "schema_version": 3,
     "solution": false,
     "task": false
    }
   },
   "outputs": [],
   "source": [
    "assert len(nltk_cleaned) == 19, \"NLTK token list is empty.\" # 4 point"
   ]
  },
  {
   "cell_type": "markdown",
   "metadata": {},
   "source": [
    "5. **Question (Markdown response)** (4 points):  \n",
    "- Contrast the NLTK cleaned result with the sklearn one from question 2? "
   ]
  },
  {
   "cell_type": "markdown",
   "metadata": {
    "deletable": false,
    "nbgrader": {
     "cell_type": "markdown",
     "checksum": "07552f93e97624bf49813fdcd551930b",
     "grade": true,
     "grade_id": "cell-784db958fe07bf68",
     "locked": false,
     "points": 4,
     "schema_version": 3,
     "solution": true,
     "task": false
    }
   },
   "source": [
    "### Answer 5\n",
    "\n",
    "YOUR ANSWER HERE"
   ]
  },
  {
   "cell_type": "code",
   "execution_count": null,
   "metadata": {},
   "outputs": [],
   "source": []
  }
 ],
 "metadata": {
  "kernelspec": {
   "display_name": "Python 3 (ipykernel)",
   "language": "python",
   "name": "python3"
  },
  "language_info": {
   "codemirror_mode": {
    "name": "ipython",
    "version": 3
   },
   "file_extension": ".py",
   "mimetype": "text/x-python",
   "name": "python",
   "nbconvert_exporter": "python",
   "pygments_lexer": "ipython3",
   "version": "3.10.13"
  }
 },
 "nbformat": 4,
 "nbformat_minor": 4
}
