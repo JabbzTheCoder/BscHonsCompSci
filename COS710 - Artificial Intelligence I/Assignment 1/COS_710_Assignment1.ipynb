{
 "cells": [
  {
   "cell_type": "markdown",
   "metadata": {},
   "source": [
    " \n",
    "\n",
    "# Assignment 1 - Regression \n",
    "# Due Date: 24 March 2025 \n",
    " \n",
    "This assignment requires you to employ genetic programming to produce a regressor \n",
    "capable of predicting the yield of grapes for a vineyard in 1991. The 192_vinyard dataset \n",
    "is to be used and contains the total yield of the harvests in 1989 and 1990 as measured \n",
    "by the total number of lugs (basket used to carry roughly 30 pounds of grapes). \n",
    " The dataset can be found at: \n",
    "https://github.com/EpistasisLab/pmlb/tree/master/datasets/192_vineyard  \n",
    "and additional information can be found at: \n",
    "https://epistasislab.github.io/pmlb/profile/192_vineyard.html   \n",
    " \n",
    "Assignments must be submitted via clickUP and must include the source code, \n",
    "compiled code and the report. The report must include the following: \n",
    "• A brief description of the dataset used, and any pre-processing done on the data. \n",
    "• A description of the GP algorithm, specifically: \n",
    " \n",
    "- The representation used to represent a regressor \n",
    "- Define the function and terminal sets used \n",
    "- Define the fitness function used \n",
    "- The selection method used \n",
    "- Describe the genetic operators used \n",
    "- Termination criterion used \n",
    " \n",
    "• List the parameters used for the genetic programming algorithm and briefly \n",
    "explain how the values were arrived at. \n",
    "• Tables presenting the best, average and standard deviation of the objective \n",
    "values over at least 10 runs performed and discuss the results."
   ]
  }
 ],
 "metadata": {
  "language_info": {
   "name": "python"
  }
 },
 "nbformat": 4,
 "nbformat_minor": 2
}
